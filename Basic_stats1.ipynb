{
 "cells": [
  {
   "cell_type": "code",
   "execution_count": 3,
   "metadata": {},
   "outputs": [],
   "source": [
    "import numpy as np\n",
    "import pandas as pd\n",
    "import matplotlib.pyplot as plt\n",
    "import seaborn as sns\n",
    "\n",
    "import scipy.stats as stats"
   ]
  },
  {
   "cell_type": "raw",
   "metadata": {},
   "source": [
    "Q1. A physician is evaluating a new diet for her patients with a family history of heart disease. To test the effectiveness of this diet, 16 patients are placed on the diet for 6 months. Their weights and triglyceride levels are measured before and after the study, and the physician wants to know if either set of measurements has changed. (Data set: dietstudy.csv)"
   ]
  },
  {
   "cell_type": "code",
   "execution_count": 4,
   "metadata": {},
   "outputs": [],
   "source": [
    "diet=pd.read_csv('C:/Users/ACER/Desktop/Analytixlabs/Python/Manuj_Sir_python/Assignment/7. Basic Stats - Case Study-1/dietstudy.csv')"
   ]
  },
  {
   "cell_type": "code",
   "execution_count": 5,
   "metadata": {
    "scrolled": true
   },
   "outputs": [
    {
     "data": {
      "text/html": [
       "<div>\n",
       "<style scoped>\n",
       "    .dataframe tbody tr th:only-of-type {\n",
       "        vertical-align: middle;\n",
       "    }\n",
       "\n",
       "    .dataframe tbody tr th {\n",
       "        vertical-align: top;\n",
       "    }\n",
       "\n",
       "    .dataframe thead th {\n",
       "        text-align: right;\n",
       "    }\n",
       "</style>\n",
       "<table border=\"1\" class=\"dataframe\">\n",
       "  <thead>\n",
       "    <tr style=\"text-align: right;\">\n",
       "      <th></th>\n",
       "      <th>patid</th>\n",
       "      <th>age</th>\n",
       "      <th>gender</th>\n",
       "      <th>tg0</th>\n",
       "      <th>tg1</th>\n",
       "      <th>tg2</th>\n",
       "      <th>tg3</th>\n",
       "      <th>tg4</th>\n",
       "      <th>wgt0</th>\n",
       "      <th>wgt1</th>\n",
       "      <th>wgt2</th>\n",
       "      <th>wgt3</th>\n",
       "      <th>wgt4</th>\n",
       "    </tr>\n",
       "  </thead>\n",
       "  <tbody>\n",
       "    <tr>\n",
       "      <th>0</th>\n",
       "      <td>1</td>\n",
       "      <td>45</td>\n",
       "      <td>Male</td>\n",
       "      <td>180</td>\n",
       "      <td>148</td>\n",
       "      <td>106</td>\n",
       "      <td>113</td>\n",
       "      <td>100</td>\n",
       "      <td>198</td>\n",
       "      <td>196</td>\n",
       "      <td>193</td>\n",
       "      <td>188</td>\n",
       "      <td>192</td>\n",
       "    </tr>\n",
       "    <tr>\n",
       "      <th>1</th>\n",
       "      <td>2</td>\n",
       "      <td>56</td>\n",
       "      <td>Male</td>\n",
       "      <td>139</td>\n",
       "      <td>94</td>\n",
       "      <td>119</td>\n",
       "      <td>75</td>\n",
       "      <td>92</td>\n",
       "      <td>237</td>\n",
       "      <td>233</td>\n",
       "      <td>232</td>\n",
       "      <td>228</td>\n",
       "      <td>225</td>\n",
       "    </tr>\n",
       "  </tbody>\n",
       "</table>\n",
       "</div>"
      ],
      "text/plain": [
       "   patid  age gender  tg0  tg1  tg2  tg3  tg4  wgt0  wgt1  wgt2  wgt3  wgt4\n",
       "0      1   45   Male  180  148  106  113  100   198   196   193   188   192\n",
       "1      2   56   Male  139   94  119   75   92   237   233   232   228   225"
      ]
     },
     "execution_count": 5,
     "metadata": {},
     "output_type": "execute_result"
    }
   ],
   "source": [
    "diet.head(2)"
   ]
  },
  {
   "cell_type": "raw",
   "metadata": {},
   "source": [
    "Ho : There is no difference in the levels of Triglycerides and weight of individual after using new diet for 6 months\n",
    "Ha : There is has been a significant difference in the levels of Triglycerides and weight of individual after using new diet for 6 months.\n",
    "CI :95% ,P=0.05\n",
    "Test : paired sample t test"
   ]
  },
  {
   "cell_type": "code",
   "execution_count": 109,
   "metadata": {},
   "outputs": [
    {
     "name": "stdout",
     "output_type": "stream",
     "text": [
      "Mean of Triglyceride_Pre : 138.4375 | Mean of Weights_Pre : 198.375\n",
      "Mean of Triglyceride_Post : 124.375 | Mean of Weights_Post : 190.3125\n",
      "Var of Triglyceride_Pre : 843.33 | Var of Weights_Pre : 1120.38\n",
      "Var of Triglyceride_Post : 865.05 | Var of Weights_Post : 1122.76\n"
     ]
    }
   ],
   "source": [
    "print('Mean of Triglyceride_Pre :',diet.tg0.mean(),'|','Mean of Weights_Pre :',diet.wgt0.mean())\n",
    "print('Mean of Triglyceride_Post :',diet.tg4.mean(),'|','Mean of Weights_Post :',diet.wgt4.mean())\n",
    "print('Var of Triglyceride_Pre :',round(diet.tg0.var(),2),'|','Var of Weights_Pre :',round(diet.wgt0.var(),2))\n",
    "print('Var of Triglyceride_Post :',round(diet.tg4.var(),2),'|','Var of Weights_Post :',round(diet.wgt4.var(),2))"
   ]
  },
  {
   "cell_type": "code",
   "execution_count": 11,
   "metadata": {},
   "outputs": [
    {
     "name": "stdout",
     "output_type": "stream",
     "text": [
      "P-value: 0.24874946576903698\n"
     ]
    }
   ],
   "source": [
    "tg=stats.ttest_rel(diet.tg0,diet.tg4)\n",
    "print('P-value:',tg[1])"
   ]
  },
  {
   "cell_type": "code",
   "execution_count": 13,
   "metadata": {},
   "outputs": [
    {
     "name": "stdout",
     "output_type": "stream",
     "text": [
      "P-value: 1.137689414996614e-08\n"
     ]
    }
   ],
   "source": [
    "wg=stats.ttest_rel(diet.wgt0,diet.wgt4)\n",
    "print('P-value:',wg[1])"
   ]
  },
  {
   "cell_type": "markdown",
   "metadata": {},
   "source": [
    "### Conclusion: \n",
    " For Triglyceride:There is no significant difference in the levels of Triglycerides\n",
    " \n",
    " For Weight: There has been a significant difference in the levels of  weight "
   ]
  },
  {
   "cell_type": "raw",
   "metadata": {},
   "source": [
    "Q2. An analyst at a department store wants to evaluate a recent credit card promotion. To this end, 500 cardholders were randomly selected. Half received an ad promoting a reduced interest rate on purchases made over the next three months, and half received a standard seasonal ad. Is the promotion effective to increase sales?"
   ]
  },
  {
   "cell_type": "code",
   "execution_count": 14,
   "metadata": {},
   "outputs": [],
   "source": [
    "credit=pd.read_csv('C:/Users/ACER/Desktop/Analytixlabs/Python/Manuj_Sir_python/Assignment/7. Basic Stats - Case Study-1/creditpromo.csv')"
   ]
  },
  {
   "cell_type": "code",
   "execution_count": 15,
   "metadata": {},
   "outputs": [
    {
     "data": {
      "text/html": [
       "<div>\n",
       "<style scoped>\n",
       "    .dataframe tbody tr th:only-of-type {\n",
       "        vertical-align: middle;\n",
       "    }\n",
       "\n",
       "    .dataframe tbody tr th {\n",
       "        vertical-align: top;\n",
       "    }\n",
       "\n",
       "    .dataframe thead th {\n",
       "        text-align: right;\n",
       "    }\n",
       "</style>\n",
       "<table border=\"1\" class=\"dataframe\">\n",
       "  <thead>\n",
       "    <tr style=\"text-align: right;\">\n",
       "      <th></th>\n",
       "      <th>id</th>\n",
       "      <th>insert</th>\n",
       "      <th>dollars</th>\n",
       "    </tr>\n",
       "  </thead>\n",
       "  <tbody>\n",
       "    <tr>\n",
       "      <th>0</th>\n",
       "      <td>148</td>\n",
       "      <td>Standard</td>\n",
       "      <td>2232.771979</td>\n",
       "    </tr>\n",
       "    <tr>\n",
       "      <th>1</th>\n",
       "      <td>572</td>\n",
       "      <td>New Promotion</td>\n",
       "      <td>1403.807542</td>\n",
       "    </tr>\n",
       "  </tbody>\n",
       "</table>\n",
       "</div>"
      ],
      "text/plain": [
       "    id         insert      dollars\n",
       "0  148       Standard  2232.771979\n",
       "1  572  New Promotion  1403.807542"
      ]
     },
     "execution_count": 15,
     "metadata": {},
     "output_type": "execute_result"
    }
   ],
   "source": [
    "credit.head(2)"
   ]
  },
  {
   "cell_type": "code",
   "execution_count": 25,
   "metadata": {},
   "outputs": [],
   "source": [
    "Dollars='dollars'\n",
    "New=credit.loc[credit['insert']=='New Promotion',Dollars]\n",
    "Old=credit.loc[credit['insert']=='Standard',Dollars]"
   ]
  },
  {
   "cell_type": "raw",
   "metadata": {},
   "source": [
    "Ho : There is no difference in the sales before and after the promotion\n",
    "Ha : There is has been a significant difference in the in the sales before and after the promotion.\n",
    "CI :95% ,P=0.05\n",
    "Test : f-test/ANOVA"
   ]
  },
  {
   "cell_type": "code",
   "execution_count": 34,
   "metadata": {},
   "outputs": [
    {
     "name": "stdout",
     "output_type": "stream",
     "text": [
      "Mean of before promotion: 1566.39 | Variance of before promotion: 120182.2\n",
      "Mean of after promotion: 1637.5 | Variance of after promotion: 127237.15\n"
     ]
    }
   ],
   "source": [
    "print('Mean of before promotion:',round(Old.mean(),2),'|','Variance of before promotion:',round(Old.var(),2))\n",
    "print('Mean of after promotion:',round(New.mean(),2),'|','Variance of after promotion:',round(New.var(),2))"
   ]
  },
  {
   "cell_type": "code",
   "execution_count": 32,
   "metadata": {},
   "outputs": [
    {
     "name": "stdout",
     "output_type": "stream",
     "text": [
      "P-value: 0.024225996894148064\n"
     ]
    }
   ],
   "source": [
    "promo_test=stats.f_oneway(Old,New)\n",
    "print('P-value:',promo_test[1])"
   ]
  },
  {
   "cell_type": "markdown",
   "metadata": {},
   "source": [
    "### Conclusion:\n",
    "There is has been a significant difference in the in the sales before and after the promotion"
   ]
  },
  {
   "cell_type": "raw",
   "metadata": {},
   "source": [
    "Q3.An experiment is conducted to study the hybrid seed production of bottle gourd under open field conditions. The main aim of the investigation is to compare natural pollination and hand pollination. The data are collected on 10 randomly selected plants from each of natural pollination and hand pollination. The data are collected on fruit weight (kg), seed yield/plant (g) and seedling length (cm)"
   ]
  },
  {
   "cell_type": "code",
   "execution_count": 45,
   "metadata": {
    "scrolled": true
   },
   "outputs": [
    {
     "data": {
      "text/html": [
       "<div>\n",
       "<style scoped>\n",
       "    .dataframe tbody tr th:only-of-type {\n",
       "        vertical-align: middle;\n",
       "    }\n",
       "\n",
       "    .dataframe tbody tr th {\n",
       "        vertical-align: top;\n",
       "    }\n",
       "\n",
       "    .dataframe thead th {\n",
       "        text-align: right;\n",
       "    }\n",
       "</style>\n",
       "<table border=\"1\" class=\"dataframe\">\n",
       "  <thead>\n",
       "    <tr style=\"text-align: right;\">\n",
       "      <th></th>\n",
       "      <th>Group</th>\n",
       "      <th>Fruit_Wt</th>\n",
       "      <th>Seed_Yield_Plant</th>\n",
       "      <th>Seedling_length</th>\n",
       "    </tr>\n",
       "  </thead>\n",
       "  <tbody>\n",
       "    <tr>\n",
       "      <th>0</th>\n",
       "      <td>Natural</td>\n",
       "      <td>1.85</td>\n",
       "      <td>147.70</td>\n",
       "      <td>16.86</td>\n",
       "    </tr>\n",
       "    <tr>\n",
       "      <th>1</th>\n",
       "      <td>Natural</td>\n",
       "      <td>1.86</td>\n",
       "      <td>136.86</td>\n",
       "      <td>16.77</td>\n",
       "    </tr>\n",
       "  </tbody>\n",
       "</table>\n",
       "</div>"
      ],
      "text/plain": [
       "     Group  Fruit_Wt  Seed_Yield_Plant  Seedling_length\n",
       "0  Natural      1.85            147.70            16.86\n",
       "1  Natural      1.86            136.86            16.77"
      ]
     },
     "execution_count": 45,
     "metadata": {},
     "output_type": "execute_result"
    }
   ],
   "source": [
    "pollination=pd.read_csv('C:/Users/ACER/Desktop/Analytixlabs/Python/Manuj_Sir_python/Assignment/7. Basic Stats - Case Study-1/pollination.csv')\n",
    "pollination.head(2)"
   ]
  },
  {
   "cell_type": "raw",
   "metadata": {},
   "source": [
    "a) Is the overall population of Seed yield/plant (g) equals to 200?"
   ]
  },
  {
   "cell_type": "raw",
   "metadata": {},
   "source": [
    "Ho : Mean=200\n",
    "Ha : Mean<>200\n",
    "CI :95% ,P=0.05\n",
    "Test : one sample t-test"
   ]
  },
  {
   "cell_type": "code",
   "execution_count": 39,
   "metadata": {},
   "outputs": [
    {
     "name": "stdout",
     "output_type": "stream",
     "text": [
      "Mean of sample population: 180.8035\n"
     ]
    }
   ],
   "source": [
    "seed=pollination['Seed_Yield_Plant'].mean()\n",
    "print('Mean of sample population:',seed)"
   ]
  },
  {
   "cell_type": "code",
   "execution_count": 44,
   "metadata": {},
   "outputs": [
    {
     "name": "stdout",
     "output_type": "stream",
     "text": [
      "P-value: 0.032891040921283025\n"
     ]
    }
   ],
   "source": [
    "test=stats.ttest_1samp(pollination['Seed_Yield_Plant'],200)\n",
    "print('P-value:',test[1])"
   ]
  },
  {
   "cell_type": "markdown",
   "metadata": {},
   "source": [
    "### Conclusion:\n",
    "Overall population of Seed yield/plant (g) is significantly difference from the hypothesised mean value of 200"
   ]
  },
  {
   "cell_type": "raw",
   "metadata": {},
   "source": [
    "b) Test whether the natural pollination and hand pollination under open field conditions are equally effective or are significantly different."
   ]
  },
  {
   "cell_type": "raw",
   "metadata": {},
   "source": [
    "Ho : natural pollination and hand pollination are equally effective\n",
    "Ha : natural pollination and hand pollination are significantly different\n",
    "CI :95% ,P=0.05\n",
    "Test :  two sample ind test or ANOVA"
   ]
  },
  {
   "cell_type": "code",
   "execution_count": 61,
   "metadata": {},
   "outputs": [
    {
     "name": "stdout",
     "output_type": "stream",
     "text": [
      "Mean of fruit for Natural: 1.85 | Mean of seed_Yield for Natural: 146.01 | Mean of seedling for Natural: 17.71\n",
      "Var of fruit for Natural: 0.0 | Var of seed_Yield for Natural: 110.17 | Var of seedling for Natural: 0.79\n"
     ]
    }
   ],
   "source": [
    "N1=pollination.loc[pollination.Group=='Natural','Fruit_Wt']\n",
    "N2=pollination.loc[pollination.Group=='Natural','Seed_Yield_Plant']\n",
    "N3=pollination.loc[pollination.Group=='Natural','Seedling_length']\n",
    "print('Mean of fruit for Natural:',round(N1.mean(),2),'|','Mean of seed_Yield for Natural:',round(N2.mean(),2),'|','Mean of seedling for Natural:',round(N3.mean(),2))\n",
    "print('Var of fruit for Natural:',round(N1.var(),2),'|','Var of seed_Yield for Natural:',round(N2.var(),2),'|','Var of seedling for Natural:',round(N3.var(),2))"
   ]
  },
  {
   "cell_type": "code",
   "execution_count": 62,
   "metadata": {},
   "outputs": [
    {
     "name": "stdout",
     "output_type": "stream",
     "text": [
      "Mean of fruit for Natural: 2.57 | Mean of seed_Yield for Natural: 215.6 | Mean of seedling for Natural: 18.59\n",
      "Var of fruit for Natural: 0.02 | Var of seed_Yield for Natural: 138.38 | Var of seedling for Natural: 0.42\n"
     ]
    }
   ],
   "source": [
    "H1=pollination.loc[pollination.Group=='Hand','Fruit_Wt']\n",
    "H2=pollination.loc[pollination.Group=='Hand','Seed_Yield_Plant']\n",
    "H3=pollination.loc[pollination.Group=='Hand','Seedling_length']\n",
    "print('Mean of fruit for Natural:',round(H1.mean(),2),'|','Mean of seed_Yield for Natural:',round(H2.mean(),2),'|','Mean of seedling for Natural:',round(H3.mean(),2))\n",
    "print('Var of fruit for Natural:',round(H1.var(),2),'|','Var of seed_Yield for Natural:',round(H2.var(),2),'|','Var of seedling for Natural:',round(H3.var(),2))"
   ]
  },
  {
   "cell_type": "code",
   "execution_count": 66,
   "metadata": {
    "scrolled": true
   },
   "outputs": [
    {
     "name": "stdout",
     "output_type": "stream",
     "text": [
      "P-value N1/H1: 8.078362076486221e-13\n",
      "P-value N2/H2: 4.2714815854843853e-11\n",
      "P-value N3/H3: 0.020428817064110226\n"
     ]
    }
   ],
   "source": [
    "print('P-value N1/H1:',stats.ttest_ind(N1,H1)[1])\n",
    "print('P-value N2/H2:',stats.ttest_ind(N2,H2)[1])\n",
    "print('P-value N3/H3:',stats.ttest_ind(N3,H3)[1])"
   ]
  },
  {
   "cell_type": "code",
   "execution_count": 68,
   "metadata": {},
   "outputs": [
    {
     "data": {
      "text/plain": [
       "F_onewayResult(statistic=1993.4826327763085, pvalue=6.29512897481449e-60)"
      ]
     },
     "execution_count": 68,
     "metadata": {},
     "output_type": "execute_result"
    }
   ],
   "source": [
    "#Alternate way is ANOVA\n",
    "stats.f_oneway( N1,N2,N3,H1,H2,H3 )"
   ]
  },
  {
   "cell_type": "markdown",
   "metadata": {},
   "source": [
    "### Conclusion:\n",
    "Natural pollination and Hand pollination are significantly different"
   ]
  },
  {
   "cell_type": "raw",
   "metadata": {},
   "source": [
    "Q4. An electronics firm is developing a new DVD player in response to customer requests. Using a prototype, the marketing team has collected focus data for different age groups viz. Under 25; 25-34; 35-44; 45-54; 55-64; 65 and above. Do you think that consumers of various ages rated the design differently?"
   ]
  },
  {
   "cell_type": "code",
   "execution_count": 50,
   "metadata": {},
   "outputs": [
    {
     "data": {
      "text/html": [
       "<div>\n",
       "<style scoped>\n",
       "    .dataframe tbody tr th:only-of-type {\n",
       "        vertical-align: middle;\n",
       "    }\n",
       "\n",
       "    .dataframe tbody tr th {\n",
       "        vertical-align: top;\n",
       "    }\n",
       "\n",
       "    .dataframe thead th {\n",
       "        text-align: right;\n",
       "    }\n",
       "</style>\n",
       "<table border=\"1\" class=\"dataframe\">\n",
       "  <thead>\n",
       "    <tr style=\"text-align: right;\">\n",
       "      <th></th>\n",
       "      <th>agegroup</th>\n",
       "      <th>dvdscore</th>\n",
       "    </tr>\n",
       "  </thead>\n",
       "  <tbody>\n",
       "    <tr>\n",
       "      <th>0</th>\n",
       "      <td>65 and over</td>\n",
       "      <td>38.454803</td>\n",
       "    </tr>\n",
       "    <tr>\n",
       "      <th>1</th>\n",
       "      <td>55-64</td>\n",
       "      <td>17.669677</td>\n",
       "    </tr>\n",
       "  </tbody>\n",
       "</table>\n",
       "</div>"
      ],
      "text/plain": [
       "      agegroup   dvdscore\n",
       "0  65 and over  38.454803\n",
       "1        55-64  17.669677"
      ]
     },
     "execution_count": 50,
     "metadata": {},
     "output_type": "execute_result"
    }
   ],
   "source": [
    "DVD=pd.read_csv('C:/Users/ACER/Desktop/Analytixlabs/Python/Manuj_Sir_python/Assignment/7. Basic Stats - Case Study-1/dvdplayer.csv')\n",
    "DVD.head(2)"
   ]
  },
  {
   "cell_type": "raw",
   "metadata": {},
   "source": [
    "Ho : All age group gave similar rating\n",
    "Ha : Rating for all age group are different\n",
    "CI :95% ,P=0.05\n",
    "Test : f-test/ANOVA"
   ]
  },
  {
   "cell_type": "code",
   "execution_count": 72,
   "metadata": {},
   "outputs": [
    {
     "data": {
      "text/plain": [
       "array(['65 and over', '55-64', 'Under 25', '25-34', '45-54', '35-44'],\n",
       "      dtype=object)"
      ]
     },
     "execution_count": 72,
     "metadata": {},
     "output_type": "execute_result"
    }
   ],
   "source": [
    "DVD.agegroup.unique()"
   ]
  },
  {
   "cell_type": "code",
   "execution_count": 75,
   "metadata": {},
   "outputs": [],
   "source": [
    "d1=DVD.loc[DVD.agegroup=='65 and over','dvdscore']\n",
    "d2=DVD.loc[DVD.agegroup=='55-64','dvdscore']\n",
    "d3=DVD.loc[DVD.agegroup=='Under 25','dvdscore']\n",
    "d4=DVD.loc[DVD.agegroup=='25-34','dvdscore']\n",
    "d5=DVD.loc[DVD.agegroup=='45-54','dvdscore']\n",
    "d6=DVD.loc[DVD.agegroup=='35-44','dvdscore']"
   ]
  },
  {
   "cell_type": "code",
   "execution_count": 80,
   "metadata": {},
   "outputs": [
    {
     "name": "stdout",
     "output_type": "stream",
     "text": [
      "Mean d1: 28.0 | Mean d2: 28.45 | Mean d3: 28.75 | Mean d4: 31.68 | Mean d5: 39.12 | Mean d6: 37.02\n",
      "Var d1: 27.72 | Var d2: 29.52 | Var d3: 26.98 | Var d4: 34.08 | Var d5: 41.38 | Var d6: 63.78\n"
     ]
    }
   ],
   "source": [
    "print('Mean d1:',round(d1.mean(),2),'|','Mean d2:',round(d2.mean(),2),'|','Mean d3:',round(d3.mean(),2),'|','Mean d4:',round(d4.mean(),2),'|','Mean d5:',round(d5.mean(),2),'|','Mean d6:',round(d6.mean(),2))\n",
    "print('Var d1:',round(d1.var(),2),'|','Var d2:',round(d2.var(),2),'|','Var d3:',round(d3.var(),2),'|','Var d4:',round(d4.var(),2),'|','Var d5:',round(d5.var(),2),'|','Var d6:',round(d6.var(),2))"
   ]
  },
  {
   "cell_type": "code",
   "execution_count": 77,
   "metadata": {},
   "outputs": [
    {
     "name": "stdout",
     "output_type": "stream",
     "text": [
      "P-value 3.087324905679639e-05\n"
     ]
    }
   ],
   "source": [
    "print('P-value',stats.f_oneway(d1,d2,d3,d4,d5,d6)[1])"
   ]
  },
  {
   "cell_type": "markdown",
   "metadata": {},
   "source": [
    "### Conclusion:\n",
    "Rating for all age group are different from each other"
   ]
  },
  {
   "cell_type": "raw",
   "metadata": {},
   "source": [
    "Q5.A survey was conducted among 2800 customers on several demographic characteristics. Working status, sex, age, age-group, race, happiness, no. of child, marital status, educational qualifications, income group etc. had been captured for that purpose."
   ]
  },
  {
   "cell_type": "code",
   "execution_count": 102,
   "metadata": {
    "scrolled": true
   },
   "outputs": [
    {
     "data": {
      "text/html": [
       "<div>\n",
       "<style scoped>\n",
       "    .dataframe tbody tr th:only-of-type {\n",
       "        vertical-align: middle;\n",
       "    }\n",
       "\n",
       "    .dataframe tbody tr th {\n",
       "        vertical-align: top;\n",
       "    }\n",
       "\n",
       "    .dataframe thead th {\n",
       "        text-align: right;\n",
       "    }\n",
       "</style>\n",
       "<table border=\"1\" class=\"dataframe\">\n",
       "  <thead>\n",
       "    <tr style=\"text-align: right;\">\n",
       "      <th></th>\n",
       "      <th>id</th>\n",
       "      <th>wrkstat</th>\n",
       "      <th>marital</th>\n",
       "      <th>childs</th>\n",
       "      <th>age</th>\n",
       "      <th>educ</th>\n",
       "      <th>paeduc</th>\n",
       "      <th>maeduc</th>\n",
       "      <th>speduc</th>\n",
       "      <th>degree</th>\n",
       "      <th>...</th>\n",
       "      <th>agecat</th>\n",
       "      <th>childcat</th>\n",
       "      <th>news1</th>\n",
       "      <th>news2</th>\n",
       "      <th>news3</th>\n",
       "      <th>news4</th>\n",
       "      <th>news5</th>\n",
       "      <th>car1</th>\n",
       "      <th>car2</th>\n",
       "      <th>car3</th>\n",
       "    </tr>\n",
       "  </thead>\n",
       "  <tbody>\n",
       "    <tr>\n",
       "      <th>0</th>\n",
       "      <td>1</td>\n",
       "      <td>Working full time</td>\n",
       "      <td>Divorced</td>\n",
       "      <td>2.0</td>\n",
       "      <td>60.0</td>\n",
       "      <td>12.0</td>\n",
       "      <td>12.0</td>\n",
       "      <td>12.0</td>\n",
       "      <td>NaN</td>\n",
       "      <td>High school</td>\n",
       "      <td>...</td>\n",
       "      <td>55 to 64</td>\n",
       "      <td>1-2</td>\n",
       "      <td>No</td>\n",
       "      <td>No</td>\n",
       "      <td>No</td>\n",
       "      <td>No</td>\n",
       "      <td>No</td>\n",
       "      <td>American</td>\n",
       "      <td>Japanese</td>\n",
       "      <td>Japanese</td>\n",
       "    </tr>\n",
       "    <tr>\n",
       "      <th>1</th>\n",
       "      <td>2</td>\n",
       "      <td>Working part-time</td>\n",
       "      <td>Never married</td>\n",
       "      <td>0.0</td>\n",
       "      <td>27.0</td>\n",
       "      <td>17.0</td>\n",
       "      <td>20.0</td>\n",
       "      <td>NaN</td>\n",
       "      <td>NaN</td>\n",
       "      <td>Junior college</td>\n",
       "      <td>...</td>\n",
       "      <td>25 to 34</td>\n",
       "      <td>None</td>\n",
       "      <td>No</td>\n",
       "      <td>No</td>\n",
       "      <td>Yes</td>\n",
       "      <td>No</td>\n",
       "      <td>No</td>\n",
       "      <td>American</td>\n",
       "      <td>German</td>\n",
       "      <td>Japanese</td>\n",
       "    </tr>\n",
       "  </tbody>\n",
       "</table>\n",
       "<p>2 rows × 46 columns</p>\n",
       "</div>"
      ],
      "text/plain": [
       "   id            wrkstat        marital  childs   age  educ  paeduc  maeduc  \\\n",
       "0   1  Working full time       Divorced     2.0  60.0  12.0    12.0    12.0   \n",
       "1   2  Working part-time  Never married     0.0  27.0  17.0    20.0     NaN   \n",
       "\n",
       "   speduc          degree  ...    agecat childcat news1 news2  news3 news4  \\\n",
       "0     NaN     High school  ...  55 to 64      1-2    No    No     No    No   \n",
       "1     NaN  Junior college  ...  25 to 34     None    No    No    Yes    No   \n",
       "\n",
       "  news5      car1      car2      car3  \n",
       "0    No  American  Japanese  Japanese  \n",
       "1    No  American    German  Japanese  \n",
       "\n",
       "[2 rows x 46 columns]"
      ]
     },
     "execution_count": 102,
     "metadata": {},
     "output_type": "execute_result"
    }
   ],
   "source": [
    "survey=pd.read_csv('C:/Users/ACER/Desktop/Analytixlabs/Python/Manuj_Sir_python/Assignment/7. Basic Stats - Case Study-1/sample_survey.csv')\n",
    "survey.head(2)"
   ]
  },
  {
   "cell_type": "raw",
   "metadata": {},
   "source": [
    "a) Is there any relationship in between labour force status with marital status?"
   ]
  },
  {
   "cell_type": "raw",
   "metadata": {},
   "source": [
    "Ho : No relation between labour force status with marital status\n",
    "Ha : There is relation between labour force status with marital status\n",
    "CI :95% ,P=0.05\n",
    "Test : chi-square"
   ]
  },
  {
   "cell_type": "code",
   "execution_count": 103,
   "metadata": {},
   "outputs": [
    {
     "name": "stdout",
     "output_type": "stream",
     "text": [
      "P-value: 1.4875268409067568e-135\n"
     ]
    }
   ],
   "source": [
    "print('P-value:',stats.chi2_contingency(pd.crosstab(survey.wrkstat,survey.marital))[1])"
   ]
  },
  {
   "cell_type": "markdown",
   "metadata": {},
   "source": [
    "### Conclusion:\n",
    "There is a relation between labour force status with marital status"
   ]
  },
  {
   "cell_type": "raw",
   "metadata": {},
   "source": [
    "b) Do you think educational qualification is somehow controlling the marital status?"
   ]
  },
  {
   "cell_type": "raw",
   "metadata": {},
   "source": [
    "Ho : Educational qualification is not controlling the marital status\n",
    "Ha : Educational qualification is somehow controlling the marital status\n",
    "CI :95% ,P=0.05\n",
    "Test : chi-square"
   ]
  },
  {
   "cell_type": "code",
   "execution_count": 104,
   "metadata": {},
   "outputs": [
    {
     "name": "stdout",
     "output_type": "stream",
     "text": [
      "P-value: 1.6707923432360119e-18\n"
     ]
    }
   ],
   "source": [
    "print('P-value:',stats.chi2_contingency(pd.crosstab(survey.marital,survey.degree))[1])"
   ]
  },
  {
   "cell_type": "markdown",
   "metadata": {},
   "source": [
    "### Conclusion:\n",
    "Educational qualification is somehow controlling the marital status"
   ]
  },
  {
   "cell_type": "raw",
   "metadata": {},
   "source": [
    "c) Is happiness is driven by earnings or marital status?"
   ]
  },
  {
   "cell_type": "raw",
   "metadata": {},
   "source": [
    "Ho : Happiness is not driven by earnings or marital status\n",
    "Ha : Happiness is  driven by earnings or marital status\n",
    "CI :95% ,P=0.05\n",
    "Test : chi-square"
   ]
  },
  {
   "cell_type": "code",
   "execution_count": 107,
   "metadata": {},
   "outputs": [
    {
     "name": "stdout",
     "output_type": "stream",
     "text": [
      "P-value for Happiness & Marital status: 9.3147261197964e-52\n"
     ]
    }
   ],
   "source": [
    "print('P-value for Happiness & Marital status:',stats.chi2_contingency(pd.crosstab(survey.marital,survey.happy))[1])"
   ]
  },
  {
   "cell_type": "code",
   "execution_count": 106,
   "metadata": {},
   "outputs": [
    {
     "name": "stdout",
     "output_type": "stream",
     "text": [
      "P-value for Happiness & Earning status: 7.108618170303006e-83\n"
     ]
    }
   ],
   "source": [
    "print('P-value for Happiness & Earning status:',stats.chi2_contingency(pd.crosstab(survey.marital,survey.income))[1])"
   ]
  },
  {
   "cell_type": "markdown",
   "metadata": {},
   "source": [
    "### Conclusion:\n",
    " Yes,Happiness is  driven by earnings or marital status"
   ]
  },
  {
   "cell_type": "code",
   "execution_count": null,
   "metadata": {},
   "outputs": [],
   "source": []
  }
 ],
 "metadata": {
  "kernelspec": {
   "display_name": "Python 3",
   "language": "python",
   "name": "python3"
  },
  "language_info": {
   "codemirror_mode": {
    "name": "ipython",
    "version": 3
   },
   "file_extension": ".py",
   "mimetype": "text/x-python",
   "name": "python",
   "nbconvert_exporter": "python",
   "pygments_lexer": "ipython3",
   "version": "3.7.6"
  }
 },
 "nbformat": 4,
 "nbformat_minor": 4
}
