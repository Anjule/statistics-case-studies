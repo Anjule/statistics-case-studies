{
 "cells": [
  {
   "cell_type": "code",
   "execution_count": 1,
   "metadata": {},
   "outputs": [],
   "source": [
    "import pandas as pd\n",
    "import numpy as np\n",
    "import scipy.stats as stats\n",
    "import matplotlib.pyplot as plt\n",
    "import seaborn as sns"
   ]
  },
  {
   "cell_type": "code",
   "execution_count": 2,
   "metadata": {},
   "outputs": [],
   "source": [
    "data=pd.read_csv('C:/Users/ACER/Desktop/Analytixlabs/Python/Manuj_Sir_python/Assignment/8. Basic Stats - Case Study-2/Testing_Of_Hypothesis.csv')"
   ]
  },
  {
   "cell_type": "code",
   "execution_count": 6,
   "metadata": {},
   "outputs": [
    {
     "name": "stdout",
     "output_type": "stream",
     "text": [
      "<class 'pandas.core.frame.DataFrame'>\n",
      "RangeIndex: 100 entries, 0 to 99\n",
      "Data columns (total 5 columns):\n",
      " #   Column         Non-Null Count  Dtype \n",
      "---  ------         --------------  ----- \n",
      " 0   Sr No          100 non-null    int64 \n",
      " 1   S_Cust_id      100 non-null    object\n",
      " 2   Samsung Score  100 non-null    int64 \n",
      " 3   Apple_Cust_id  100 non-null    object\n",
      " 4   Apple_Score    100 non-null    int64 \n",
      "dtypes: int64(3), object(2)\n",
      "memory usage: 4.0+ KB\n"
     ]
    }
   ],
   "source": [
    "data.info()"
   ]
  },
  {
   "cell_type": "markdown",
   "metadata": {},
   "source": [
    "### 1. The Samsung Average customer satisfaction score is minimum 75%."
   ]
  },
  {
   "cell_type": "raw",
   "metadata": {},
   "source": [
    "Ho : Mean=75\n",
    "Ha : Mean<>75\n",
    "CI :95% ,P=0.05\n",
    "Test : one sample t-test"
   ]
  },
  {
   "cell_type": "code",
   "execution_count": 9,
   "metadata": {},
   "outputs": [
    {
     "name": "stdout",
     "output_type": "stream",
     "text": [
      "Avg Samsung satisfaction score is 84.9\n",
      "SD of Samsung satisfaction score is 11.84453161982057\n"
     ]
    }
   ],
   "source": [
    "print('Avg Samsung satisfaction score is',data['Samsung Score'].mean())\n",
    "print('SD of Samsung satisfaction score is',data['Samsung Score'].std())"
   ]
  },
  {
   "cell_type": "code",
   "execution_count": 21,
   "metadata": {},
   "outputs": [
    {
     "name": "stdout",
     "output_type": "stream",
     "text": [
      "P-value: 4.0739777034636007e-13\n"
     ]
    }
   ],
   "source": [
    "test=stats.ttest_1samp(data['Samsung Score'],75)\n",
    "print('P-value:',test[1])"
   ]
  },
  {
   "cell_type": "markdown",
   "metadata": {},
   "source": [
    "### Conclusion:\n",
    "\n",
    "We reject null hypothesis.\n",
    "\n",
    "Hence the Samsung Average customer satisfaction score is not equal to hypothesised mean value of 75%."
   ]
  },
  {
   "cell_type": "markdown",
   "metadata": {},
   "source": [
    "### 2. The overall average satisfaction score of Samsung is same as Apple. There is no significant difference in the satisfaction scores."
   ]
  },
  {
   "cell_type": "raw",
   "metadata": {},
   "source": [
    "Ho : There is no difference in the average satisfaction score of Samsung and Apple\n",
    "Ha : There is has been a significant difference in the average satisfaction score of Samsung and Apple\n",
    "CI :95% ,P=0.05\n",
    "Test : f-test/ANOVA"
   ]
  },
  {
   "cell_type": "code",
   "execution_count": 17,
   "metadata": {},
   "outputs": [
    {
     "name": "stdout",
     "output_type": "stream",
     "text": [
      "Avg Samsung satisfaction score is 84.9 | SD of Samsung satisfaction score is 11.84453161982057\n",
      "Avg Apple satisfaction score is 87.81 | SD of Apple satisfaction score is 9.628131131788196\n"
     ]
    }
   ],
   "source": [
    "samsung=data['Samsung Score']\n",
    "apple=data['Apple_Score']\n",
    "\n",
    "print('Avg Samsung satisfaction score is',data['Samsung Score'].mean(),'|','SD of Samsung satisfaction score is',data['Samsung Score'].std())\n",
    "print('Avg Apple satisfaction score is',data['Apple_Score'].mean(),'|','SD of Apple satisfaction score is',data['Apple_Score'].std())"
   ]
  },
  {
   "cell_type": "code",
   "execution_count": 20,
   "metadata": {},
   "outputs": [
    {
     "name": "stdout",
     "output_type": "stream",
     "text": [
      "P-value: 0.058\n"
     ]
    }
   ],
   "source": [
    "score_test=stats.f_oneway(samsung,apple)\n",
    "print('P-value:',round(score_test[1],3))"
   ]
  },
  {
   "cell_type": "markdown",
   "metadata": {},
   "source": [
    "### Conclusion:\n",
    "\n",
    "We failed to reject null hypotesis.\n",
    "\n",
    "Hence there is no difference  in the average satisfaction score of Samsung and Apple"
   ]
  },
  {
   "cell_type": "code",
   "execution_count": null,
   "metadata": {},
   "outputs": [],
   "source": []
  }
 ],
 "metadata": {
  "kernelspec": {
   "display_name": "Python 3",
   "language": "python",
   "name": "python3"
  },
  "language_info": {
   "codemirror_mode": {
    "name": "ipython",
    "version": 3
   },
   "file_extension": ".py",
   "mimetype": "text/x-python",
   "name": "python",
   "nbconvert_exporter": "python",
   "pygments_lexer": "ipython3",
   "version": "3.7.6"
  }
 },
 "nbformat": 4,
 "nbformat_minor": 4
}
